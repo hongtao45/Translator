{
 "cells": [
  {
   "cell_type": "markdown",
   "metadata": {},
   "source": [
    "## 参考资料：\n",
    "\n",
    "[pandas 读取excel、一次性写入多个sheet、原有文件追加sheet](https://blog.csdn.net/qq_35318838/article/details/104692846)\n",
    "\n",
    "[Pandas 获取EXCEL 各sheet name和内容的两种方法](https://blog.csdn.net/qq_35499652/article/details/120703525)\n",
    "\n",
    "[python入门-爬取百度翻译中的双语例句](https://www.jianshu.com/p/92478814d217)\n"
   ]
  },
  {
   "cell_type": "markdown",
   "metadata": {},
   "source": [
    "## 测试代码"
   ]
  },
  {
   "cell_type": "code",
   "execution_count": 110,
   "metadata": {},
   "outputs": [],
   "source": [
    "import pandas as pd\n",
    "import numpy as np\n",
    "\n",
    "file = r\"./RAW_data.xlsx\"\n",
    "data = pd.read_excel(file, sheet_name=0, header=2)"
   ]
  },
  {
   "cell_type": "code",
   "execution_count": 112,
   "metadata": {},
   "outputs": [
    {
     "data": {
      "text/plain": [
       "pandas.core.frame.DataFrame"
      ]
     },
     "execution_count": 112,
     "metadata": {},
     "output_type": "execute_result"
    }
   ],
   "source": [
    "type(data)"
   ]
  },
  {
   "cell_type": "code",
   "execution_count": 113,
   "metadata": {},
   "outputs": [
    {
     "data": {
      "text/html": [
       "<div>\n",
       "<style scoped>\n",
       "    .dataframe tbody tr th:only-of-type {\n",
       "        vertical-align: middle;\n",
       "    }\n",
       "\n",
       "    .dataframe tbody tr th {\n",
       "        vertical-align: top;\n",
       "    }\n",
       "\n",
       "    .dataframe thead th {\n",
       "        text-align: right;\n",
       "    }\n",
       "</style>\n",
       "<table border=\"1\" class=\"dataframe\">\n",
       "  <thead>\n",
       "    <tr style=\"text-align: right;\">\n",
       "      <th></th>\n",
       "      <th>Term</th>\n",
       "      <th>Example of term used in context / Definition of term</th>\n",
       "      <th>Other (e.g. Title of source article/page/ section)</th>\n",
       "      <th>Term.1</th>\n",
       "      <th>Example of term used in context / Definition of term.1</th>\n",
       "      <th>Other (e.g. Title of source article/page/ section).1</th>\n",
       "    </tr>\n",
       "  </thead>\n",
       "  <tbody>\n",
       "    <tr>\n",
       "      <th>0</th>\n",
       "      <td>adult training program</td>\n",
       "      <td>NaN</td>\n",
       "      <td>NaN</td>\n",
       "      <td>NaN</td>\n",
       "      <td>NaN</td>\n",
       "      <td>NaN</td>\n",
       "    </tr>\n",
       "    <tr>\n",
       "      <th>1</th>\n",
       "      <td>application for payment</td>\n",
       "      <td>An application for payment is a type of docume...</td>\n",
       "      <td>NaN</td>\n",
       "      <td>付款申请书</td>\n",
       "      <td>NaN</td>\n",
       "      <td>NaN</td>\n",
       "    </tr>\n",
       "    <tr>\n",
       "      <th>2</th>\n",
       "      <td>capable of undertaking</td>\n",
       "      <td>NaN</td>\n",
       "      <td>NaN</td>\n",
       "      <td>NaN</td>\n",
       "      <td>NaN</td>\n",
       "      <td>NaN</td>\n",
       "    </tr>\n",
       "    <tr>\n",
       "      <th>3</th>\n",
       "      <td>dismissal</td>\n",
       "      <td>official notice that you have been fired from ...</td>\n",
       "      <td>NaN</td>\n",
       "      <td>开除，解雇</td>\n",
       "      <td>NaN</td>\n",
       "      <td>NaN</td>\n",
       "    </tr>\n",
       "    <tr>\n",
       "      <th>4</th>\n",
       "      <td>to be laid off</td>\n",
       "      <td>If workers are laid off, they are told by thei...</td>\n",
       "      <td>NaN</td>\n",
       "      <td>解雇</td>\n",
       "      <td>NaN</td>\n",
       "      <td>NaN</td>\n",
       "    </tr>\n",
       "  </tbody>\n",
       "</table>\n",
       "</div>"
      ],
      "text/plain": [
       "                      Term  \\\n",
       "0   adult training program   \n",
       "1  application for payment   \n",
       "2   capable of undertaking   \n",
       "3                dismissal   \n",
       "4           to be laid off   \n",
       "\n",
       "  Example of term used in context / Definition of term  \\\n",
       "0                                                NaN     \n",
       "1  An application for payment is a type of docume...     \n",
       "2                                                NaN     \n",
       "3  official notice that you have been fired from ...     \n",
       "4  If workers are laid off, they are told by thei...     \n",
       "\n",
       "   Other (e.g. Title of source article/page/ section) Term.1  \\\n",
       "0                                                NaN     NaN   \n",
       "1                                                NaN   付款申请书   \n",
       "2                                                NaN     NaN   \n",
       "3                                                NaN   开除，解雇   \n",
       "4                                                NaN      解雇   \n",
       "\n",
       "   Example of term used in context / Definition of term.1  \\\n",
       "0                                                NaN        \n",
       "1                                                NaN        \n",
       "2                                                NaN        \n",
       "3                                                NaN        \n",
       "4                                                NaN        \n",
       "\n",
       "   Other (e.g. Title of source article/page/ section).1  \n",
       "0                                                NaN     \n",
       "1                                                NaN     \n",
       "2                                                NaN     \n",
       "3                                                NaN     \n",
       "4                                                NaN     "
      ]
     },
     "execution_count": 113,
     "metadata": {},
     "output_type": "execute_result"
    }
   ],
   "source": [
    "data.head()"
   ]
  },
  {
   "cell_type": "markdown",
   "metadata": {},
   "source": [
    "## 正式代码"
   ]
  },
  {
   "cell_type": "code",
   "execution_count": 1,
   "metadata": {},
   "outputs": [],
   "source": [
    "import requests\n",
    "import json\n",
    "import re\n",
    "import execjs\n",
    "import urllib\n",
    "import time\n",
    "\n",
    "\n",
    "f_english = open(\"english.txt\", \"w+\")\n",
    "f_chinese = open(\"chinese.txt\", \"w+\")\n",
    "f_synonym = open(\"synonym.txt\", \"w+\")\n",
    "\n",
    "\n",
    "def getTranslation(source = 'machine'):\n",
    "    '''\n",
    "    input:\n",
    "        source: 待翻译的单词，句子\n",
    "    output:\n",
    "        res_zh      : str  中文结果\n",
    "        liju_en_res : list 英文例句\n",
    "        liju_zh_res : list 中文例句\n",
    "    '''\n",
    "    zh_res = \"\"\n",
    "    liju_en_res = []\n",
    "    liju_zh_res = []\n",
    "\n",
    "    headers = {\n",
    "        \"User-Agent\": \"Mozilla/5.0 (Macintosh; Intel Mac OS X 10_13_6) AppleWebKit/537.36 (KHTML, like Gecko) Chrome/69.0.3497.100 Safari/537.36\",\n",
    "        \"Cookie\": \"BAIDUID=4650B0B34048BBAA1E0B909B42F5A564:FG=1; BIDUPSID=4650B0B34048BBAA1E0B909B42F5A564; PSTM=1537177909; BDUSS=w0VmEzUFFWTTh0bld5VWVhNVo5MEEyV2ZKdTk3U2stMGZmWVQ1TTRuSnVkOHBiQVFBQUFBJCQAAAAAAAAAAAEAAAD0GzcNaG9uZ3F1YW4xOTkxAAAAAAAAAAAAAAAAAAAAAAAAAAAAAAAAAAAAAAAAAAAAAAAAAAAAAAAAAAAAAAAAAAAAAG7qoltu6qJbTk; pgv_pvi=6774493184; uc_login_unique=19e6fd48035206a8abe89f98c3fc542a; uc_recom_mark=cmVjb21tYXJrXzYyNDU4NjM%3D; MCITY=-218%3A; cflag=15%3A3; SIGNIN_UC=70a2711cf1d3d9b1a82d2f87d633bd8a02893452711; locale=zh; Hm_lvt_64ecd82404c51e03dc91cb9e8c025574=1539333192; from_lang_often=%5B%7B%22value%22%3A%22en%22%2C%22text%22%3A%22%u82F1%u8BED%22%7D%2C%7B%22value%22%3A%22zh%22%2C%22text%22%3A%22%u4E2D%u6587%22%7D%5D; REALTIME_TRANS_SWITCH=1; FANYI_WORD_SWITCH=1; HISTORY_SWITCH=1; SOUND_SPD_SWITCH=1; SOUND_PREFER_SWITCH=1; to_lang_often=%5B%7B%22value%22%3A%22zh%22%2C%22text%22%3A%22%u4E2D%u6587%22%7D%2C%7B%22value%22%3A%22en%22%2C%22text%22%3A%22%u82F1%u8BED%22%7D%5D; Hm_lpvt_64ecd82404c51e03dc91cb9e8c025574=1539333307\",\n",
    "    }\n",
    "\n",
    "    # 获取网页源码\n",
    "    html = requests.get('https://fanyi.baidu.com', headers=headers)\n",
    "    html.encoding = 'utf-8'\n",
    "\n",
    "    # 正则匹配 gtk\n",
    "    matches = re.findall(\"window.gtk = '(.*?)';\", html.text, re.S)\n",
    "    for match in matches:\n",
    "        gtk = match\n",
    "\n",
    "    if gtk == \"\":\n",
    "        print('Get gtk fail.')\n",
    "        exit()\n",
    "    # print('gtk = ' + gtk)\n",
    "\n",
    "    # 正则匹配 token\n",
    "    matches = re.findall(\"token: '(.*?)'\", html.text, re.S)\n",
    "    for match in matches:\n",
    "        token = match\n",
    "\n",
    "    if token == \"\":\n",
    "        print('Get token fail.')\n",
    "        exit()\n",
    "    # print('token = ' + token)\n",
    "\n",
    "    # 计算 sign\n",
    "    signCode = 'function a(r,o){for(var t=0;t<o.length-2;t+=3){var a=o.charAt(t+2);a=a>=\"a\"?a.charCodeAt(0)-87:Number(a),a=\"+\"===o.charAt(t+1)?r>>>a:r<<a,r=\"+\"===o.charAt(t)?r+a&4294967295:r^a}return r}var C=null;var hash=function(r,_gtk){var o=r.length;o>30&&(r=\"\"+r.substr(0,10)+r.substr(Math.floor(o/2)-5,10)+r.substr(-10,10));var t=void 0,t=null!==C?C:(C=_gtk||\"\")||\"\";for(var e=t.split(\".\"),h=Number(e[0])||0,i=Number(e[1])||0,d=[],f=0,g=0;g<r.length;g++){var m=r.charCodeAt(g);128>m?d[f++]=m:(2048>m?d[f++]=m>>6|192:(55296===(64512&m)&&g+1<r.length&&56320===(64512&r.charCodeAt(g+1))?(m=65536+((1023&m)<<10)+(1023&r.charCodeAt(++g)),d[f++]=m>>18|240,d[f++]=m>>12&63|128):d[f++]=m>>12|224,d[f++]=m>>6&63|128),d[f++]=63&m|128)}for(var S=h,u=\"+-a^+6\",l=\"+-3^+b+-f\",s=0;s<d.length;s++)S+=d[s],S=a(S,u);return S=a(S,l),S^=i,0>S&&(S=(2147483647&S)+2147483648),S%=1e6,S.toString()+\".\"+(S^h)}'\n",
    "\n",
    "    sign = execjs.compile(signCode).call('hash', source, gtk)\n",
    "    # print('source = ' + source + ', sign = ' + sign)\n",
    "\n",
    "    # 请求接口\n",
    "    fromLanguage = 'en'\n",
    "    toLanguage = 'zh'\n",
    "\n",
    "    # 请求接口地址\n",
    "    v2transapi = 'https://fanyi.baidu.com/v2transapi?from=%s&to=%s&query=%s' \\\n",
    "                 '&transtype=translang&simple_means_flag=3&sign=%s&token=%s' % (\n",
    "                     fromLanguage, toLanguage, urllib.parse.quote(source), sign, token)\n",
    "\n",
    "    # print(v2transapi)\n",
    "\n",
    "    #### 最大重试次数\n",
    "    attempts = 0\n",
    "    success = False\n",
    "    while attempts < 3 and not success:\n",
    "        try:\n",
    "            translate_result = requests.get(v2transapi, headers=headers)\n",
    "            success = True\n",
    "        except:\n",
    "            attempts += 1\n",
    "            if attempts == 3:\n",
    "                break\n",
    "\n",
    "    result = json.loads(translate_result.text)\n",
    "    # print(translate_result.text)\n",
    "\n",
    "    # print(\"翻译结果:{}\".format(result[\"trans_result\"][\"data\"][0][\"dst\"]))\n",
    "    try:\n",
    "        zh_res =result[\"trans_result\"][\"data\"][0][\"dst\"]\n",
    "    \n",
    "        # print(lines)\n",
    "        ### line: 每一组句子，包含一句中文和一句英文\n",
    "        ### sentences: 每个句子\n",
    "        ### sentence: 句子中的每个词；格式：['The', 'w_0', 'w_0', 0, ' ']\n",
    "\n",
    "        # print('-----双语例句-----')\n",
    "\n",
    "        double = result[\"liju_result\"]['double']\n",
    "        if double != \"\":\n",
    "            lines = json.loads(result[\"liju_result\"]['double'])\n",
    "            is_english = True\n",
    "            for line in lines:\n",
    "                # print(line)\n",
    "                for sentences in line:\n",
    "                    # print(sentences)\n",
    "                    if isinstance(sentences, list):\n",
    "                        s = \"\"\n",
    "                        # print(sentences)\n",
    "                        for i, sentence in enumerate(sentences): # 组词成句\n",
    "                            if is_english:\n",
    "                                if i > len(sentences) - 3:\n",
    "                                    s += sentence[0]\n",
    "                                else:\n",
    "                                    s += sentence[0] + \" \"\n",
    "                            else:\n",
    "                                s += sentence[0]\n",
    "                        \n",
    "                        s.encode(\"gbk\", 'ignore').decode(\"gbk\", \"ignore\")\n",
    "                        if is_english:\n",
    "                            # print(s, file=f_english)\n",
    "                            # print(s)\n",
    "                            liju_en_res.append(s) #! 英文例句\n",
    "                            is_english = False\n",
    "                        else:\n",
    "                            # print(s, file=f_chinese)\n",
    "                            # print(s)\n",
    "                            liju_zh_res.append(s) #! 中文例句\n",
    "                            is_english = True\n",
    "\n",
    "                        # print(s)\n",
    "                        # print()\n",
    "                        s = \"\"\n",
    "    \n",
    "    except:\n",
    "        zh_res =\"\"\n",
    "        liju_en_res = []\n",
    "        liju_zh_res =[]\n",
    "\n",
    "    return dict(zh_res=zh_res, liju_en=liju_en_res, liju_zh=liju_zh_res)\n",
    "\n",
    "\n",
    "f_vob = open(\"electronic.txt\")\n",
    "for line in f_vob:\n",
    "    source = line\n",
    "    res_dict = getTranslation(source)\n",
    "    # print(res_dict)\n",
    "\n",
    "\n",
    "f_vob.close()\n",
    "f_english.close()\n",
    "f_chinese.close()\n",
    "f_synonym.close()\n"
   ]
  },
  {
   "cell_type": "code",
   "execution_count": 2,
   "metadata": {},
   "outputs": [
    {
     "name": "stdout",
     "output_type": "stream",
     "text": [
      "{'zh_res': '', 'liju_en': [], 'liju_zh': []}\n",
      "{'zh_res': '', 'liju_en': [], 'liju_zh': []}\n"
     ]
    }
   ],
   "source": [
    "f_vob = [\"adult training program\",\"application for payment\"]\n",
    "for line in f_vob:\n",
    "    source = line\n",
    "    res_dict = getTranslation(source)\n",
    "    print(res_dict)\n"
   ]
  },
  {
   "cell_type": "code",
   "execution_count": 47,
   "metadata": {},
   "outputs": [
    {
     "name": "stdout",
     "output_type": "stream",
     "text": [
      "['W1 - Employment', 'W2 & 3 - Housing', 'W4 - Welfare', 'W6 - Business-Finance', 'W7 - Business-Taxation', 'W9 - Tourism', 'W9 + W10 - Medicine- GPs']\n"
     ]
    }
   ],
   "source": [
    "import pandas as pd\n",
    "\n",
    "data = pd.ExcelFile(r\"./RAW_data.xlsx\")\n",
    "sheets =data.sheet_names\n",
    "print(sheets)"
   ]
  },
  {
   "cell_type": "code",
   "execution_count": 48,
   "metadata": {},
   "outputs": [
    {
     "name": "stdout",
     "output_type": "stream",
     "text": [
      "(99, 6)\n",
      "(99, 6)\n",
      "(99, 6)\n",
      "(101, 6)\n",
      "(107, 6)\n",
      "(102, 6)\n",
      "(145, 6)\n"
     ]
    }
   ],
   "source": [
    "for name in sheets:\n",
    "    df_pre = data.parse(sheet_name= name)\n",
    "    # print(type(df_pre))\n",
    "    print(df_pre.shape)"
   ]
  },
  {
   "cell_type": "code",
   "execution_count": 49,
   "metadata": {},
   "outputs": [
    {
     "data": {
      "text/html": [
       "<div>\n",
       "<style scoped>\n",
       "    .dataframe tbody tr th:only-of-type {\n",
       "        vertical-align: middle;\n",
       "    }\n",
       "\n",
       "    .dataframe tbody tr th {\n",
       "        vertical-align: top;\n",
       "    }\n",
       "\n",
       "    .dataframe thead th {\n",
       "        text-align: right;\n",
       "    }\n",
       "</style>\n",
       "<table border=\"1\" class=\"dataframe\">\n",
       "  <thead>\n",
       "    <tr style=\"text-align: right;\">\n",
       "      <th></th>\n",
       "      <th>Term</th>\n",
       "      <th>Example of term used in context / Definition of term</th>\n",
       "      <th>Other (e.g. Title of source article/page/ section)</th>\n",
       "      <th>Term.1</th>\n",
       "      <th>Example of term used in context / Definition of term.1</th>\n",
       "      <th>Other (e.g. Title of source article/page/ section).1</th>\n",
       "    </tr>\n",
       "  </thead>\n",
       "  <tbody>\n",
       "    <tr>\n",
       "      <th>0</th>\n",
       "      <td>adult training program</td>\n",
       "      <td>NaN</td>\n",
       "      <td>NaN</td>\n",
       "      <td>NaN</td>\n",
       "      <td>NaN</td>\n",
       "      <td>NaN</td>\n",
       "    </tr>\n",
       "    <tr>\n",
       "      <th>1</th>\n",
       "      <td>application for payment</td>\n",
       "      <td>An application for payment is a type of docume...</td>\n",
       "      <td>NaN</td>\n",
       "      <td>付款申请书</td>\n",
       "      <td>NaN</td>\n",
       "      <td>NaN</td>\n",
       "    </tr>\n",
       "    <tr>\n",
       "      <th>2</th>\n",
       "      <td>capable of undertaking</td>\n",
       "      <td>NaN</td>\n",
       "      <td>NaN</td>\n",
       "      <td>NaN</td>\n",
       "      <td>NaN</td>\n",
       "      <td>NaN</td>\n",
       "    </tr>\n",
       "  </tbody>\n",
       "</table>\n",
       "</div>"
      ],
      "text/plain": [
       "                      Term  \\\n",
       "0   adult training program   \n",
       "1  application for payment   \n",
       "2   capable of undertaking   \n",
       "\n",
       "  Example of term used in context / Definition of term  \\\n",
       "0                                                NaN     \n",
       "1  An application for payment is a type of docume...     \n",
       "2                                                NaN     \n",
       "\n",
       "   Other (e.g. Title of source article/page/ section) Term.1  \\\n",
       "0                                                NaN     NaN   \n",
       "1                                                NaN   付款申请书   \n",
       "2                                                NaN     NaN   \n",
       "\n",
       "   Example of term used in context / Definition of term.1  \\\n",
       "0                                                NaN        \n",
       "1                                                NaN        \n",
       "2                                                NaN        \n",
       "\n",
       "   Other (e.g. Title of source article/page/ section).1  \n",
       "0                                                NaN     \n",
       "1                                                NaN     \n",
       "2                                                NaN     "
      ]
     },
     "execution_count": 49,
     "metadata": {},
     "output_type": "execute_result"
    }
   ],
   "source": [
    "df1 = data.parse(sheet_name= sheets[0], header=2)\n",
    "df1.head(3)"
   ]
  },
  {
   "cell_type": "code",
   "execution_count": 5,
   "metadata": {},
   "outputs": [
    {
     "name": "stdout",
     "output_type": "stream",
     "text": [
      "{'zh_res': '', 'liju_en': [], 'liju_zh': []}\n",
      "{'zh_res': '', 'liju_en': [], 'liju_zh': []}\n",
      "{'zh_res': '', 'liju_en': [], 'liju_zh': []}\n"
     ]
    }
   ],
   "source": [
    "vobs =  [\"adult training program\",\"application for payment\", \"capable of undertaking\"]\n",
    "for vob in vobs:\n",
    "    res_dict = getTranslation(vob)\n",
    "    print(res_dict)"
   ]
  },
  {
   "cell_type": "code",
   "execution_count": 59,
   "metadata": {},
   "outputs": [
    {
     "data": {
      "text/plain": [
       "dict_keys(['zh_res', 'liju_en', 'liju_zh'])"
      ]
     },
     "execution_count": 59,
     "metadata": {},
     "output_type": "execute_result"
    }
   ],
   "source": [
    "res_dict.keys()"
   ]
  },
  {
   "cell_type": "code",
   "execution_count": 61,
   "metadata": {},
   "outputs": [
    {
     "data": {
      "text/plain": [
       "['我们多次去函请求结清这笔账款而无任何结果，为此我们非常遗憾。',\n",
       " '将授权批准人批准的借款申请送出纳付款。',\n",
       " 'SET协议是为解决信用卡支付业务在Internet上安全、可靠的支付而提出的一种解决电子商务的安全支付方案。',\n",
       " '应用程序提示用户输入安全支付信息。']"
      ]
     },
     "execution_count": 61,
     "metadata": {},
     "output_type": "execute_result"
    }
   ],
   "source": [
    "res_dict['liju_zh']"
   ]
  },
  {
   "cell_type": "code",
   "execution_count": 70,
   "metadata": {},
   "outputs": [
    {
     "data": {
      "text/plain": [
       "{'Term': 1, 'Ex1': 2, 'Ex2': 3, 'Term2': 4, 'Ex3': 5, 'Ex4': 6}"
      ]
     },
     "execution_count": 70,
     "metadata": {},
     "output_type": "execute_result"
    }
   ],
   "source": [
    "col = [\"Term\", \"Ex1\", \"Ex2\", \"Term2\", \"Ex3\",\"Ex4\"]\n",
    "txt = [1,2,3,4,5,6]\n",
    "\n",
    "dict(zip(col,txt))"
   ]
  },
  {
   "cell_type": "markdown",
   "metadata": {},
   "source": [
    "## 处理结果"
   ]
  },
  {
   "cell_type": "code",
   "execution_count": 13,
   "metadata": {},
   "outputs": [],
   "source": [
    "import pandas as pd\n",
    "\n",
    "res_df = pd.ExcelFile(\"./trans_res4.xlsx\")\n",
    "raw_df = pd.ExcelFile(\"./RAW_data.xlsx\")\n"
   ]
  },
  {
   "cell_type": "code",
   "execution_count": 5,
   "metadata": {},
   "outputs": [],
   "source": [
    "res_sheets = res_df.sheet_names\n",
    "raw_sheets = res_df.sheet_names"
   ]
  },
  {
   "cell_type": "code",
   "execution_count": 8,
   "metadata": {},
   "outputs": [
    {
     "name": "stderr",
     "output_type": "stream",
     "text": [
      "100%|██████████| 7/7 [00:00<00:00, 7013.89it/s]"
     ]
    },
    {
     "name": "stdout",
     "output_type": "stream",
     "text": [
      "True\n",
      "True\n",
      "True\n",
      "True\n",
      "True\n",
      "True\n",
      "True\n"
     ]
    },
    {
     "name": "stderr",
     "output_type": "stream",
     "text": [
      "\n"
     ]
    }
   ],
   "source": [
    "from tqdm import trange\n",
    "\n",
    "for i  in trange(len(res_sheets)):\n",
    "    na_res = res_sheets[i]\n",
    "    na_raw = raw_sheets[i]\n",
    "    print(na_res==na_raw)"
   ]
  },
  {
   "cell_type": "code",
   "execution_count": 21,
   "metadata": {},
   "outputs": [
    {
     "data": {
      "text/html": [
       "<div>\n",
       "<style scoped>\n",
       "    .dataframe tbody tr th:only-of-type {\n",
       "        vertical-align: middle;\n",
       "    }\n",
       "\n",
       "    .dataframe tbody tr th {\n",
       "        vertical-align: top;\n",
       "    }\n",
       "\n",
       "    .dataframe thead th {\n",
       "        text-align: right;\n",
       "    }\n",
       "</style>\n",
       "<table border=\"1\" class=\"dataframe\">\n",
       "  <thead>\n",
       "    <tr style=\"text-align: right;\">\n",
       "      <th></th>\n",
       "      <th>Medicine - Working with GPs</th>\n",
       "      <th>Unnamed: 1</th>\n",
       "      <th>Unnamed: 2</th>\n",
       "      <th>Unnamed: 3</th>\n",
       "      <th>Unnamed: 4</th>\n",
       "      <th>Unnamed: 5</th>\n",
       "    </tr>\n",
       "  </thead>\n",
       "  <tbody>\n",
       "    <tr>\n",
       "      <th>0</th>\n",
       "      <td>English</td>\n",
       "      <td>NaN</td>\n",
       "      <td>NaN</td>\n",
       "      <td>LOTE</td>\n",
       "      <td>NaN</td>\n",
       "      <td>NaN</td>\n",
       "    </tr>\n",
       "    <tr>\n",
       "      <th>1</th>\n",
       "      <td>Term</td>\n",
       "      <td>Example of term used in context / Definition o...</td>\n",
       "      <td>Other (e.g. Title of source article/page/ sect...</td>\n",
       "      <td>Term</td>\n",
       "      <td>Example of term used in context / Definition o...</td>\n",
       "      <td>Other (e.g. Title of source article/page/ sect...</td>\n",
       "    </tr>\n",
       "    <tr>\n",
       "      <th>2</th>\n",
       "      <td>anaesthetic</td>\n",
       "      <td>a drug that makes a person or an animal unable...</td>\n",
       "      <td>NaN</td>\n",
       "      <td>麻醉的，麻醉剂，麻醉药</td>\n",
       "      <td>NaN</td>\n",
       "      <td>NaN</td>\n",
       "    </tr>\n",
       "    <tr>\n",
       "      <th>3</th>\n",
       "      <td>bandage</td>\n",
       "      <td>a strip of cloth used for tying around a part ...</td>\n",
       "      <td>NaN</td>\n",
       "      <td>绷带；用绷带包扎</td>\n",
       "      <td>NaN</td>\n",
       "      <td>NaN</td>\n",
       "    </tr>\n",
       "    <tr>\n",
       "      <th>4</th>\n",
       "      <td>diagnosis</td>\n",
       "      <td>the act of discovering or identifying the exac...</td>\n",
       "      <td>NaN</td>\n",
       "      <td>诊断；调查分析</td>\n",
       "      <td>NaN</td>\n",
       "      <td>NaN</td>\n",
       "    </tr>\n",
       "  </tbody>\n",
       "</table>\n",
       "</div>"
      ],
      "text/plain": [
       "  Medicine - Working with GPs  \\\n",
       "0                     English   \n",
       "1                        Term   \n",
       "2                 anaesthetic   \n",
       "3                     bandage   \n",
       "4                   diagnosis   \n",
       "\n",
       "                                          Unnamed: 1  \\\n",
       "0                                                NaN   \n",
       "1  Example of term used in context / Definition o...   \n",
       "2  a drug that makes a person or an animal unable...   \n",
       "3  a strip of cloth used for tying around a part ...   \n",
       "4  the act of discovering or identifying the exac...   \n",
       "\n",
       "                                          Unnamed: 2   Unnamed: 3  \\\n",
       "0                                                NaN         LOTE   \n",
       "1  Other (e.g. Title of source article/page/ sect...         Term   \n",
       "2                                                NaN  麻醉的，麻醉剂，麻醉药   \n",
       "3                                                NaN     绷带；用绷带包扎   \n",
       "4                                                NaN      诊断；调查分析   \n",
       "\n",
       "                                          Unnamed: 4  \\\n",
       "0                                                NaN   \n",
       "1  Example of term used in context / Definition o...   \n",
       "2                                                NaN   \n",
       "3                                                NaN   \n",
       "4                                                NaN   \n",
       "\n",
       "                                          Unnamed: 5  \n",
       "0                                                NaN  \n",
       "1  Other (e.g. Title of source article/page/ sect...  \n",
       "2                                                NaN  \n",
       "3                                                NaN  \n",
       "4                                                NaN  "
      ]
     },
     "execution_count": 21,
     "metadata": {},
     "output_type": "execute_result"
    }
   ],
   "source": [
    "name = res_sheets[i]\n",
    "df_raw = raw_df.parse(sheet_name=name)\n",
    "df_raw.iloc[2:, 2]\n",
    "df_raw.head()"
   ]
  },
  {
   "cell_type": "code",
   "execution_count": 23,
   "metadata": {},
   "outputs": [
    {
     "name": "stderr",
     "output_type": "stream",
     "text": [
      "100%|██████████| 7/7 [00:00<00:00, 11.84it/s]\n"
     ]
    }
   ],
   "source": [
    "writer = pd.ExcelWriter(\"./trans_res5.xlsx\", mode=\"w\")\n",
    "for i  in trange(len(res_sheets)):\n",
    "    name = res_sheets[i]\n",
    "    df_res = res_df.parse(sheet_name=name)\n",
    "    df_raw = raw_df.parse(sheet_name=name)\n",
    "\n",
    "    df_raw.iloc[2:, 2] =  df_res.iloc[:, 2]\n",
    "    df_raw.iloc[2:, 4] =  df_res.iloc[:, 4]\n",
    "    df_raw.iloc[2:, 5] =  df_res.iloc[:, 5]\n",
    "\n",
    "    df_raw.to_excel(writer, sheet_name=name, index=None)\n",
    "    writer.save()\n",
    "\n",
    "writer.close()\n"
   ]
  }
 ],
 "metadata": {
  "interpreter": {
   "hash": "e481c8094450a362835654784466fc3605d9d17b45d80f6ff62525ad7933ac54"
  },
  "kernelspec": {
   "display_name": "Python 3.7.9 64-bit",
   "language": "python",
   "name": "python3"
  },
  "language_info": {
   "codemirror_mode": {
    "name": "ipython",
    "version": 3
   },
   "file_extension": ".py",
   "mimetype": "text/x-python",
   "name": "python",
   "nbconvert_exporter": "python",
   "pygments_lexer": "ipython3",
   "version": "3.7.9"
  },
  "orig_nbformat": 4
 },
 "nbformat": 4,
 "nbformat_minor": 2
}
