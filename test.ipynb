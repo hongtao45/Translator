{
 "cells": [
  {
   "cell_type": "markdown",
   "metadata": {},
   "source": [
    "## 参考资料：\n",
    "\n",
    "[pandas 读取excel、一次性写入多个sheet、原有文件追加sheet](https://blog.csdn.net/qq_35318838/article/details/104692846)\n",
    "\n",
    "[Pandas 获取EXCEL 各sheet name和内容的两种方法](https://blog.csdn.net/qq_35499652/article/details/120703525)\n",
    "\n",
    "[python入门-爬取百度翻译中的双语例句](https://www.jianshu.com/p/92478814d217)\n"
   ]
  },
  {
   "cell_type": "markdown",
   "metadata": {},
   "source": [
    "## 测试代码"
   ]
  },
  {
   "cell_type": "code",
   "execution_count": 64,
   "metadata": {},
   "outputs": [],
   "source": [
    "import pandas as pd\n",
    "import numpy as np"
   ]
  },
  {
   "cell_type": "code",
   "execution_count": 2,
   "metadata": {},
   "outputs": [],
   "source": [
    "file = r\"./Glossary template - APG 5885 - Sem 1, 2021 - SEU.xlsx\"\n",
    "data = pd.read_excel(file, sheet_name=0, header=2)"
   ]
  },
  {
   "cell_type": "code",
   "execution_count": 3,
   "metadata": {},
   "outputs": [
    {
     "data": {
      "text/plain": [
       "pandas.core.frame.DataFrame"
      ]
     },
     "execution_count": 3,
     "metadata": {},
     "output_type": "execute_result"
    }
   ],
   "source": [
    "type(data)"
   ]
  },
  {
   "cell_type": "code",
   "execution_count": 4,
   "metadata": {},
   "outputs": [
    {
     "data": {
      "text/html": [
       "<div>\n",
       "<style scoped>\n",
       "    .dataframe tbody tr th:only-of-type {\n",
       "        vertical-align: middle;\n",
       "    }\n",
       "\n",
       "    .dataframe tbody tr th {\n",
       "        vertical-align: top;\n",
       "    }\n",
       "\n",
       "    .dataframe thead th {\n",
       "        text-align: right;\n",
       "    }\n",
       "</style>\n",
       "<table border=\"1\" class=\"dataframe\">\n",
       "  <thead>\n",
       "    <tr style=\"text-align: right;\">\n",
       "      <th></th>\n",
       "      <th>Term</th>\n",
       "      <th>Example of term used in context / Definition of term</th>\n",
       "      <th>Other (e.g. Title of source article/page/ section)</th>\n",
       "      <th>Term.1</th>\n",
       "      <th>Example of term used in context / Definition of term.1</th>\n",
       "      <th>Other (e.g. Title of source article/page/ section).1</th>\n",
       "    </tr>\n",
       "  </thead>\n",
       "  <tbody>\n",
       "    <tr>\n",
       "      <th>0</th>\n",
       "      <td>adult training program</td>\n",
       "      <td>NaN</td>\n",
       "      <td>NaN</td>\n",
       "      <td>NaN</td>\n",
       "      <td>NaN</td>\n",
       "      <td>NaN</td>\n",
       "    </tr>\n",
       "    <tr>\n",
       "      <th>1</th>\n",
       "      <td>application for payment</td>\n",
       "      <td>An application for payment is a type of docume...</td>\n",
       "      <td>NaN</td>\n",
       "      <td>付款申请书</td>\n",
       "      <td>NaN</td>\n",
       "      <td>NaN</td>\n",
       "    </tr>\n",
       "    <tr>\n",
       "      <th>2</th>\n",
       "      <td>capable of undertaking</td>\n",
       "      <td>NaN</td>\n",
       "      <td>NaN</td>\n",
       "      <td>NaN</td>\n",
       "      <td>NaN</td>\n",
       "      <td>NaN</td>\n",
       "    </tr>\n",
       "    <tr>\n",
       "      <th>3</th>\n",
       "      <td>dismissal</td>\n",
       "      <td>official notice that you have been fired from ...</td>\n",
       "      <td>NaN</td>\n",
       "      <td>开除，解雇</td>\n",
       "      <td>NaN</td>\n",
       "      <td>NaN</td>\n",
       "    </tr>\n",
       "    <tr>\n",
       "      <th>4</th>\n",
       "      <td>to be laid off</td>\n",
       "      <td>If workers are laid off, they are told by thei...</td>\n",
       "      <td>NaN</td>\n",
       "      <td>解雇</td>\n",
       "      <td>NaN</td>\n",
       "      <td>NaN</td>\n",
       "    </tr>\n",
       "  </tbody>\n",
       "</table>\n",
       "</div>"
      ],
      "text/plain": [
       "                      Term  \\\n",
       "0   adult training program   \n",
       "1  application for payment   \n",
       "2   capable of undertaking   \n",
       "3                dismissal   \n",
       "4           to be laid off   \n",
       "\n",
       "  Example of term used in context / Definition of term  \\\n",
       "0                                                NaN     \n",
       "1  An application for payment is a type of docume...     \n",
       "2                                                NaN     \n",
       "3  official notice that you have been fired from ...     \n",
       "4  If workers are laid off, they are told by thei...     \n",
       "\n",
       "   Other (e.g. Title of source article/page/ section) Term.1  \\\n",
       "0                                                NaN     NaN   \n",
       "1                                                NaN   付款申请书   \n",
       "2                                                NaN     NaN   \n",
       "3                                                NaN   开除，解雇   \n",
       "4                                                NaN      解雇   \n",
       "\n",
       "   Example of term used in context / Definition of term.1  \\\n",
       "0                                                NaN        \n",
       "1                                                NaN        \n",
       "2                                                NaN        \n",
       "3                                                NaN        \n",
       "4                                                NaN        \n",
       "\n",
       "   Other (e.g. Title of source article/page/ section).1  \n",
       "0                                                NaN     \n",
       "1                                                NaN     \n",
       "2                                                NaN     \n",
       "3                                                NaN     \n",
       "4                                                NaN     "
      ]
     },
     "execution_count": 4,
     "metadata": {},
     "output_type": "execute_result"
    }
   ],
   "source": [
    "data.head()"
   ]
  },
  {
   "cell_type": "code",
   "execution_count": 5,
   "metadata": {},
   "outputs": [
    {
     "name": "stdout",
     "output_type": "stream",
     "text": [
      "<pandas.io.excel._base.ExcelFile object at 0x00000203B083DE88>\n",
      "['W1 - Employment', 'Sheet1']\n",
      "   0.653924  0.022176  0.364047  0.735109\n",
      "0  0.239030  0.050855  0.223516  0.436904\n",
      "1  0.246636  0.453515  0.425535  0.262692\n",
      "2  0.562958  0.886103  0.879368  0.128264\n",
      "3  0.186393  0.660538  0.290999  0.643052\n",
      "   0.584566  0.331529  0.309882  0.501875\n",
      "0  0.864741  0.574381  0.964561  0.721231\n",
      "1  0.838836  0.447753  0.185669  0.913101\n",
      "2  0.166613  0.565773  0.094879  0.726163\n",
      "3  0.154734  0.698394  0.678552  0.491510\n"
     ]
    }
   ],
   "source": [
    "# df2 = pd.ExcelFile(r\"./Glossary template - APG 5885 - Sem 1, 2021 - SEU.xlsx\")\n",
    "df2 = pd.ExcelFile(r\"./test.xlsx\")\n",
    " \n",
    "print(df2)\n",
    " \n",
    "print(df2.sheet_names)\n",
    "for name in df2.sheet_names:\n",
    "    df_pre = df2.parse(sheet_name=name)\n",
    "    print(df_pre)"
   ]
  },
  {
   "cell_type": "markdown",
   "metadata": {},
   "source": [
    "## 正式代码"
   ]
  },
  {
   "cell_type": "code",
   "execution_count": 108,
   "metadata": {},
   "outputs": [],
   "source": [
    "import requests\n",
    "import json\n",
    "import re\n",
    "import execjs\n",
    "import urllib\n",
    "import time\n",
    "\n",
    "\n",
    "f_english = open(\"english.txt\", \"w+\")\n",
    "f_chinese = open(\"chinese.txt\", \"w+\")\n",
    "f_synonym = open(\"synonym.txt\", \"w+\")\n",
    "\n",
    "\n",
    "def getTranslation(source = 'machine'):\n",
    "    '''\n",
    "    input:\n",
    "        source: 待翻译的单词，句子\n",
    "    output:\n",
    "        res_zh      : str  中文结果\n",
    "        liju_en_res : list 英文例句\n",
    "        liju_zh_res : list 中文例句\n",
    "    '''\n",
    "    zh_res = \"\"\n",
    "    liju_en_res = []\n",
    "    liju_zh_res = []\n",
    "\n",
    "    headers = {\n",
    "        \"User-Agent\": \"Mozilla/5.0 (Macintosh; Intel Mac OS X 10_13_6) AppleWebKit/537.36 (KHTML, like Gecko) Chrome/69.0.3497.100 Safari/537.36\",\n",
    "        \"Cookie\": \"BAIDUID=4650B0B34048BBAA1E0B909B42F5A564:FG=1; BIDUPSID=4650B0B34048BBAA1E0B909B42F5A564; PSTM=1537177909; BDUSS=w0VmEzUFFWTTh0bld5VWVhNVo5MEEyV2ZKdTk3U2stMGZmWVQ1TTRuSnVkOHBiQVFBQUFBJCQAAAAAAAAAAAEAAAD0GzcNaG9uZ3F1YW4xOTkxAAAAAAAAAAAAAAAAAAAAAAAAAAAAAAAAAAAAAAAAAAAAAAAAAAAAAAAAAAAAAAAAAAAAAG7qoltu6qJbTk; pgv_pvi=6774493184; uc_login_unique=19e6fd48035206a8abe89f98c3fc542a; uc_recom_mark=cmVjb21tYXJrXzYyNDU4NjM%3D; MCITY=-218%3A; cflag=15%3A3; SIGNIN_UC=70a2711cf1d3d9b1a82d2f87d633bd8a02893452711; locale=zh; Hm_lvt_64ecd82404c51e03dc91cb9e8c025574=1539333192; from_lang_often=%5B%7B%22value%22%3A%22en%22%2C%22text%22%3A%22%u82F1%u8BED%22%7D%2C%7B%22value%22%3A%22zh%22%2C%22text%22%3A%22%u4E2D%u6587%22%7D%5D; REALTIME_TRANS_SWITCH=1; FANYI_WORD_SWITCH=1; HISTORY_SWITCH=1; SOUND_SPD_SWITCH=1; SOUND_PREFER_SWITCH=1; to_lang_often=%5B%7B%22value%22%3A%22zh%22%2C%22text%22%3A%22%u4E2D%u6587%22%7D%2C%7B%22value%22%3A%22en%22%2C%22text%22%3A%22%u82F1%u8BED%22%7D%5D; Hm_lpvt_64ecd82404c51e03dc91cb9e8c025574=1539333307\",\n",
    "    }\n",
    "\n",
    "    # 获取网页源码\n",
    "    html = requests.get('https://fanyi.baidu.com', headers=headers)\n",
    "    html.encoding = 'utf-8'\n",
    "\n",
    "    # 正则匹配 gtk\n",
    "    matches = re.findall(\"window.gtk = '(.*?)';\", html.text, re.S)\n",
    "    for match in matches:\n",
    "        gtk = match\n",
    "\n",
    "    if gtk == \"\":\n",
    "        print('Get gtk fail.')\n",
    "        exit()\n",
    "    # print('gtk = ' + gtk)\n",
    "\n",
    "    # 正则匹配 token\n",
    "    matches = re.findall(\"token: '(.*?)'\", html.text, re.S)\n",
    "    for match in matches:\n",
    "        token = match\n",
    "\n",
    "    if token == \"\":\n",
    "        print('Get token fail.')\n",
    "        exit()\n",
    "    # print('token = ' + token)\n",
    "\n",
    "    # 计算 sign\n",
    "    signCode = 'function a(r,o){for(var t=0;t<o.length-2;t+=3){var a=o.charAt(t+2);a=a>=\"a\"?a.charCodeAt(0)-87:Number(a),a=\"+\"===o.charAt(t+1)?r>>>a:r<<a,r=\"+\"===o.charAt(t)?r+a&4294967295:r^a}return r}var C=null;var hash=function(r,_gtk){var o=r.length;o>30&&(r=\"\"+r.substr(0,10)+r.substr(Math.floor(o/2)-5,10)+r.substr(-10,10));var t=void 0,t=null!==C?C:(C=_gtk||\"\")||\"\";for(var e=t.split(\".\"),h=Number(e[0])||0,i=Number(e[1])||0,d=[],f=0,g=0;g<r.length;g++){var m=r.charCodeAt(g);128>m?d[f++]=m:(2048>m?d[f++]=m>>6|192:(55296===(64512&m)&&g+1<r.length&&56320===(64512&r.charCodeAt(g+1))?(m=65536+((1023&m)<<10)+(1023&r.charCodeAt(++g)),d[f++]=m>>18|240,d[f++]=m>>12&63|128):d[f++]=m>>12|224,d[f++]=m>>6&63|128),d[f++]=63&m|128)}for(var S=h,u=\"+-a^+6\",l=\"+-3^+b+-f\",s=0;s<d.length;s++)S+=d[s],S=a(S,u);return S=a(S,l),S^=i,0>S&&(S=(2147483647&S)+2147483648),S%=1e6,S.toString()+\".\"+(S^h)}'\n",
    "\n",
    "    sign = execjs.compile(signCode).call('hash', source, gtk)\n",
    "    # print('source = ' + source + ', sign = ' + sign)\n",
    "\n",
    "    # 请求接口\n",
    "    fromLanguage = 'en'\n",
    "    toLanguage = 'zh'\n",
    "\n",
    "    # 请求接口地址\n",
    "    v2transapi = 'https://fanyi.baidu.com/v2transapi?from=%s&to=%s&query=%s' \\\n",
    "                 '&transtype=translang&simple_means_flag=3&sign=%s&token=%s' % (\n",
    "                     fromLanguage, toLanguage, urllib.parse.quote(source), sign, token)\n",
    "\n",
    "    # print(v2transapi)\n",
    "\n",
    "    #### 最大重试次数\n",
    "    attempts = 0\n",
    "    success = False\n",
    "    while attempts < 3 and not success:\n",
    "        try:\n",
    "            translate_result = requests.get(v2transapi, headers=headers)\n",
    "            success = True\n",
    "        except:\n",
    "            attempts += 1\n",
    "            if attempts == 3:\n",
    "                break\n",
    "\n",
    "    result = json.loads(translate_result.text)\n",
    "    # print(translate_result.text)\n",
    "\n",
    "    # print(\"翻译结果:{}\".format(result[\"trans_result\"][\"data\"][0][\"dst\"]))\n",
    "    try:\n",
    "        zh_res =result[\"trans_result\"][\"data\"][0][\"dst\"]\n",
    "    \n",
    "        # print(lines)\n",
    "        ### line: 每一组句子，包含一句中文和一句英文\n",
    "        ### sentences: 每个句子\n",
    "        ### sentence: 句子中的每个词；格式：['The', 'w_0', 'w_0', 0, ' ']\n",
    "\n",
    "        # print('-----双语例句-----')\n",
    "\n",
    "        double = result[\"liju_result\"]['double']\n",
    "        if double != \"\":\n",
    "            lines = json.loads(result[\"liju_result\"]['double'])\n",
    "            is_english = True\n",
    "            for line in lines:\n",
    "                # print(line)\n",
    "                for sentences in line:\n",
    "                    # print(sentences)\n",
    "                    if isinstance(sentences, list):\n",
    "                        s = \"\"\n",
    "                        # print(sentences)\n",
    "                        for i, sentence in enumerate(sentences): # 组词成句\n",
    "                            if is_english:\n",
    "                                if i > len(sentences) - 3:\n",
    "                                    s += sentence[0]\n",
    "                                else:\n",
    "                                    s += sentence[0] + \" \"\n",
    "                            else:\n",
    "                                s += sentence[0]\n",
    "                        \n",
    "                        s.encode(\"gbk\", 'ignore').decode(\"gbk\", \"ignore\")\n",
    "                        if is_english:\n",
    "                            # print(s, file=f_english)\n",
    "                            # print(s)\n",
    "                            liju_en_res.append(s) #! 英文例句\n",
    "                            is_english = False\n",
    "                        else:\n",
    "                            # print(s, file=f_chinese)\n",
    "                            # print(s)\n",
    "                            liju_zh_res.append(s) #! 中文例句\n",
    "                            is_english = True\n",
    "\n",
    "                        # print(s)\n",
    "                        # print()\n",
    "                        s = \"\"\n",
    "    \n",
    "    except:\n",
    "        zh_res =\"\"\n",
    "        liju_en_res = []\n",
    "        liju_zh_res =[]\n",
    "\n",
    "    return dict(zh_res=zh_res, liju_en=liju_en_res, liju_zh=liju_zh_res)\n",
    "\n",
    "\n",
    "f_vob = open(\"electronic.txt\")\n",
    "for line in f_vob:\n",
    "    source = line\n",
    "    res_dict = getTranslation(source)\n",
    "    # print(res_dict)\n",
    "\n",
    "\n",
    "f_vob.close()\n",
    "f_english.close()\n",
    "f_chinese.close()\n",
    "f_synonym.close()\n"
   ]
  },
  {
   "cell_type": "code",
   "execution_count": 109,
   "metadata": {},
   "outputs": [
    {
     "name": "stdout",
     "output_type": "stream",
     "text": [
      "{'zh_res': '', 'liju_en': [], 'liju_zh': []}\n",
      "{'zh_res': '', 'liju_en': [], 'liju_zh': []}\n"
     ]
    }
   ],
   "source": [
    "\n",
    "f_vob = [\"adult training program\",\"application for payment\"]\n",
    "for line in f_vob:\n",
    "    source = line\n",
    "    res_dict = getTranslation(source)\n",
    "    print(res_dict)\n"
   ]
  },
  {
   "cell_type": "code",
   "execution_count": 47,
   "metadata": {},
   "outputs": [
    {
     "name": "stdout",
     "output_type": "stream",
     "text": [
      "['W1 - Employment', 'W2 & 3 - Housing', 'W4 - Welfare', 'W6 - Business-Finance', 'W7 - Business-Taxation', 'W9 - Tourism', 'W9 + W10 - Medicine- GPs']\n"
     ]
    }
   ],
   "source": [
    "import pandas as pd\n",
    "\n",
    "data = pd.ExcelFile(r\"./Glossary template - APG 5885 - Sem 1, 2021 - SEU.xlsx\")\n",
    "sheets =data.sheet_names\n",
    "print(sheets)"
   ]
  },
  {
   "cell_type": "code",
   "execution_count": 48,
   "metadata": {},
   "outputs": [
    {
     "name": "stdout",
     "output_type": "stream",
     "text": [
      "(99, 6)\n",
      "(99, 6)\n",
      "(99, 6)\n",
      "(101, 6)\n",
      "(107, 6)\n",
      "(102, 6)\n",
      "(145, 6)\n"
     ]
    }
   ],
   "source": [
    "for name in sheets:\n",
    "    df_pre = data.parse(sheet_name= name)\n",
    "    # print(type(df_pre))\n",
    "    print(df_pre.shape)"
   ]
  },
  {
   "cell_type": "code",
   "execution_count": 49,
   "metadata": {},
   "outputs": [
    {
     "data": {
      "text/html": [
       "<div>\n",
       "<style scoped>\n",
       "    .dataframe tbody tr th:only-of-type {\n",
       "        vertical-align: middle;\n",
       "    }\n",
       "\n",
       "    .dataframe tbody tr th {\n",
       "        vertical-align: top;\n",
       "    }\n",
       "\n",
       "    .dataframe thead th {\n",
       "        text-align: right;\n",
       "    }\n",
       "</style>\n",
       "<table border=\"1\" class=\"dataframe\">\n",
       "  <thead>\n",
       "    <tr style=\"text-align: right;\">\n",
       "      <th></th>\n",
       "      <th>Term</th>\n",
       "      <th>Example of term used in context / Definition of term</th>\n",
       "      <th>Other (e.g. Title of source article/page/ section)</th>\n",
       "      <th>Term.1</th>\n",
       "      <th>Example of term used in context / Definition of term.1</th>\n",
       "      <th>Other (e.g. Title of source article/page/ section).1</th>\n",
       "    </tr>\n",
       "  </thead>\n",
       "  <tbody>\n",
       "    <tr>\n",
       "      <th>0</th>\n",
       "      <td>adult training program</td>\n",
       "      <td>NaN</td>\n",
       "      <td>NaN</td>\n",
       "      <td>NaN</td>\n",
       "      <td>NaN</td>\n",
       "      <td>NaN</td>\n",
       "    </tr>\n",
       "    <tr>\n",
       "      <th>1</th>\n",
       "      <td>application for payment</td>\n",
       "      <td>An application for payment is a type of docume...</td>\n",
       "      <td>NaN</td>\n",
       "      <td>付款申请书</td>\n",
       "      <td>NaN</td>\n",
       "      <td>NaN</td>\n",
       "    </tr>\n",
       "    <tr>\n",
       "      <th>2</th>\n",
       "      <td>capable of undertaking</td>\n",
       "      <td>NaN</td>\n",
       "      <td>NaN</td>\n",
       "      <td>NaN</td>\n",
       "      <td>NaN</td>\n",
       "      <td>NaN</td>\n",
       "    </tr>\n",
       "  </tbody>\n",
       "</table>\n",
       "</div>"
      ],
      "text/plain": [
       "                      Term  \\\n",
       "0   adult training program   \n",
       "1  application for payment   \n",
       "2   capable of undertaking   \n",
       "\n",
       "  Example of term used in context / Definition of term  \\\n",
       "0                                                NaN     \n",
       "1  An application for payment is a type of docume...     \n",
       "2                                                NaN     \n",
       "\n",
       "   Other (e.g. Title of source article/page/ section) Term.1  \\\n",
       "0                                                NaN     NaN   \n",
       "1                                                NaN   付款申请书   \n",
       "2                                                NaN     NaN   \n",
       "\n",
       "   Example of term used in context / Definition of term.1  \\\n",
       "0                                                NaN        \n",
       "1                                                NaN        \n",
       "2                                                NaN        \n",
       "\n",
       "   Other (e.g. Title of source article/page/ section).1  \n",
       "0                                                NaN     \n",
       "1                                                NaN     \n",
       "2                                                NaN     "
      ]
     },
     "execution_count": 49,
     "metadata": {},
     "output_type": "execute_result"
    }
   ],
   "source": [
    "df1 = data.parse(sheet_name= sheets[0], header=2)\n",
    "df1.head(3)"
   ]
  },
  {
   "cell_type": "code",
   "execution_count": 52,
   "metadata": {},
   "outputs": [
    {
     "data": {
      "text/plain": [
       "(97, 6)"
      ]
     },
     "execution_count": 52,
     "metadata": {},
     "output_type": "execute_result"
    }
   ],
   "source": [
    "df1.shape"
   ]
  },
  {
   "cell_type": "code",
   "execution_count": null,
   "metadata": {},
   "outputs": [],
   "source": [
    "term = df1.iloc[:, 0] \n",
    "step = 4\n",
    "for t in term:\n",
    "    print(step)\n",
    "    res_dict = getTranslation(t)\n",
    "    step += 1\n",
    "    # print(res_dict)"
   ]
  },
  {
   "cell_type": "code",
   "execution_count": 56,
   "metadata": {},
   "outputs": [
    {
     "name": "stdout",
     "output_type": "stream",
     "text": [
      "{'zh_res': '付款申请书', 'liju_en': ['Much to my regret that we have made repeated application for payment of this amount without avail.', 'Send the approval cash request application to cashier for payment.', 'SET protocol is electronic commerce application solution for secure payment of credit card on Internet.', 'Application prompts customer for secure payment information.'], 'liju_zh': ['我们多次去函请求结清这笔账款而无任何结果，为此我们非常遗憾。', '将授权批准人批准的借款申请送出纳付款。', 'SET协议是为解决信用卡支付业务在Internet上安全、可靠的支付而提出的一种解决电子商务的安全支付方案。', '应用程序提示用户输入安全支付信息。']}\n"
     ]
    }
   ],
   "source": [
    "vob = \"application for payment\"\n",
    "res_dict = getTranslation(vob)\n",
    "print(res_dict)\n"
   ]
  },
  {
   "cell_type": "code",
   "execution_count": 107,
   "metadata": {},
   "outputs": [
    {
     "ename": "KeyError",
     "evalue": "'trans_result'",
     "output_type": "error",
     "traceback": [
      "\u001b[1;31m---------------------------------------------------------------------------\u001b[0m",
      "\u001b[1;31mKeyError\u001b[0m                                  Traceback (most recent call last)",
      "\u001b[1;32m~\\AppData\\Local\\Temp\\ipykernel_7056\\3807484319.py\u001b[0m in \u001b[0;36m<module>\u001b[1;34m\u001b[0m\n\u001b[0;32m      1\u001b[0m \u001b[0mvobs\u001b[0m\u001b[1;33m=\u001b[0m  \u001b[1;33m[\u001b[0m\u001b[1;34m\"adult training program\"\u001b[0m\u001b[1;33m,\u001b[0m\u001b[1;34m\"application for payment\"\u001b[0m\u001b[1;33m,\u001b[0m\u001b[1;34m\"capable of undertaking\"\u001b[0m\u001b[1;33m]\u001b[0m\u001b[1;33m\u001b[0m\u001b[1;33m\u001b[0m\u001b[0m\n\u001b[0;32m      2\u001b[0m \u001b[1;32mfor\u001b[0m \u001b[0mvob\u001b[0m \u001b[1;32min\u001b[0m \u001b[0mvobs\u001b[0m\u001b[1;33m:\u001b[0m\u001b[1;33m\u001b[0m\u001b[1;33m\u001b[0m\u001b[0m\n\u001b[1;32m----> 3\u001b[1;33m     \u001b[0mres_dict\u001b[0m \u001b[1;33m=\u001b[0m \u001b[0mgetTranslation\u001b[0m\u001b[1;33m(\u001b[0m\u001b[0mvob\u001b[0m\u001b[1;33m)\u001b[0m\u001b[1;33m\u001b[0m\u001b[1;33m\u001b[0m\u001b[0m\n\u001b[0m\u001b[0;32m      4\u001b[0m     \u001b[0mprint\u001b[0m\u001b[1;33m(\u001b[0m\u001b[0mres_dict\u001b[0m\u001b[1;33m)\u001b[0m\u001b[1;33m\u001b[0m\u001b[1;33m\u001b[0m\u001b[0m\n",
      "\u001b[1;32m~\\AppData\\Local\\Temp\\ipykernel_7056\\3743495539.py\u001b[0m in \u001b[0;36mgetTranslation\u001b[1;34m(source)\u001b[0m\n\u001b[0;32m     82\u001b[0m \u001b[1;33m\u001b[0m\u001b[0m\n\u001b[0;32m     83\u001b[0m     \u001b[1;31m# print(\"翻译结果:{}\".format(result[\"trans_result\"][\"data\"][0][\"dst\"]))\u001b[0m\u001b[1;33m\u001b[0m\u001b[1;33m\u001b[0m\u001b[1;33m\u001b[0m\u001b[0m\n\u001b[1;32m---> 84\u001b[1;33m     \u001b[0mzh_res\u001b[0m \u001b[1;33m=\u001b[0m\u001b[0mresult\u001b[0m\u001b[1;33m[\u001b[0m\u001b[1;34m\"trans_result\"\u001b[0m\u001b[1;33m]\u001b[0m\u001b[1;33m[\u001b[0m\u001b[1;34m\"data\"\u001b[0m\u001b[1;33m]\u001b[0m\u001b[1;33m[\u001b[0m\u001b[1;36m0\u001b[0m\u001b[1;33m]\u001b[0m\u001b[1;33m[\u001b[0m\u001b[1;34m\"dst\"\u001b[0m\u001b[1;33m]\u001b[0m\u001b[1;33m\u001b[0m\u001b[1;33m\u001b[0m\u001b[0m\n\u001b[0m\u001b[0;32m     85\u001b[0m \u001b[1;33m\u001b[0m\u001b[0m\n\u001b[0;32m     86\u001b[0m     \u001b[1;31m# print(lines)\u001b[0m\u001b[1;33m\u001b[0m\u001b[1;33m\u001b[0m\u001b[1;33m\u001b[0m\u001b[0m\n",
      "\u001b[1;31mKeyError\u001b[0m: 'trans_result'"
     ]
    }
   ],
   "source": [
    "vobs =  [\"adult training program\",\"application for payment\", \"capable of undertaking\"]\n",
    "for vob in vobs:\n",
    "    res_dict = getTranslation(vob)\n",
    "    print(res_dict)"
   ]
  },
  {
   "cell_type": "code",
   "execution_count": 59,
   "metadata": {},
   "outputs": [
    {
     "data": {
      "text/plain": [
       "dict_keys(['zh_res', 'liju_en', 'liju_zh'])"
      ]
     },
     "execution_count": 59,
     "metadata": {},
     "output_type": "execute_result"
    }
   ],
   "source": [
    "res_dict.keys()"
   ]
  },
  {
   "cell_type": "code",
   "execution_count": 61,
   "metadata": {},
   "outputs": [
    {
     "data": {
      "text/plain": [
       "['我们多次去函请求结清这笔账款而无任何结果，为此我们非常遗憾。',\n",
       " '将授权批准人批准的借款申请送出纳付款。',\n",
       " 'SET协议是为解决信用卡支付业务在Internet上安全、可靠的支付而提出的一种解决电子商务的安全支付方案。',\n",
       " '应用程序提示用户输入安全支付信息。']"
      ]
     },
     "execution_count": 61,
     "metadata": {},
     "output_type": "execute_result"
    }
   ],
   "source": [
    "res_dict['liju_zh']"
   ]
  },
  {
   "cell_type": "code",
   "execution_count": 85,
   "metadata": {},
   "outputs": [
    {
     "data": {
      "text/plain": [
       "4"
      ]
     },
     "execution_count": 85,
     "metadata": {},
     "output_type": "execute_result"
    }
   ],
   "source": [
    "len(res_dict['liju_zh'])"
   ]
  },
  {
   "cell_type": "code",
   "execution_count": 93,
   "metadata": {},
   "outputs": [],
   "source": [
    "\n",
    "lines = []\n",
    "line = [\"\"] * 6\n",
    "col = df1.columns.to_list()\n",
    "if res_dict[\"zh_res\"] == 0:\n",
    "    pass\n",
    "else:\n",
    "    len_liju =len(res_dict['liju_zh'])\n",
    "    if  len_liju> 1:\n",
    "        line[0] = vob\n",
    "        line[1] = res_dict[\"liju_en\"][0]\n",
    "        line[2] = res_dict[\"liju_en\"][1:]\n",
    "        line[3] = res_dict[\"zh_res\"]\n",
    "        line[4] = res_dict['liju_zh'][0] \n",
    "        line[5] = res_dict['liju_zh'][1:]\n",
    "    elif len_liju ==1:\n",
    "        line[0] = vob\n",
    "        line[1] = res_dict[\"liju_en\"][0]\n",
    "        # line[2] = res_dict[\"liju_en\"][1:]\n",
    "        line[3] = res_dict[\"zh_res\"]\n",
    "        line[4] = res_dict['liju_zh'][0] \n",
    "        # line[5] = res_dict['liju_zh'][1:]\n",
    "        \n",
    "lines.append(line)"
   ]
  },
  {
   "cell_type": "code",
   "execution_count": 99,
   "metadata": {},
   "outputs": [
    {
     "data": {
      "text/html": [
       "<div>\n",
       "<style scoped>\n",
       "    .dataframe tbody tr th:only-of-type {\n",
       "        vertical-align: middle;\n",
       "    }\n",
       "\n",
       "    .dataframe tbody tr th {\n",
       "        vertical-align: top;\n",
       "    }\n",
       "\n",
       "    .dataframe thead th {\n",
       "        text-align: right;\n",
       "    }\n",
       "</style>\n",
       "<table border=\"1\" class=\"dataframe\">\n",
       "  <thead>\n",
       "    <tr style=\"text-align: right;\">\n",
       "      <th></th>\n",
       "      <th>Term</th>\n",
       "      <th>Example of term used in context / Definition of term</th>\n",
       "      <th>Other (e.g. Title of source article/page/ section)</th>\n",
       "      <th>Term.1</th>\n",
       "      <th>Example of term used in context / Definition of term.1</th>\n",
       "      <th>Other (e.g. Title of source article/page/ section).1</th>\n",
       "    </tr>\n",
       "  </thead>\n",
       "  <tbody>\n",
       "    <tr>\n",
       "      <th>0</th>\n",
       "      <td>application for payment</td>\n",
       "      <td>Much to my regret that we have made repeated a...</td>\n",
       "      <td>[Send the approval cash request application to...</td>\n",
       "      <td>付款申请书</td>\n",
       "      <td>我们多次去函请求结清这笔账款而无任何结果，为此我们非常遗憾。</td>\n",
       "      <td>[将授权批准人批准的借款申请送出纳付款。, SET协议是为解决信用卡支付业务在Interne...</td>\n",
       "    </tr>\n",
       "  </tbody>\n",
       "</table>\n",
       "</div>"
      ],
      "text/plain": [
       "                      Term  \\\n",
       "0  application for payment   \n",
       "\n",
       "  Example of term used in context / Definition of term  \\\n",
       "0  Much to my regret that we have made repeated a...     \n",
       "\n",
       "  Other (e.g. Title of source article/page/ section) Term.1  \\\n",
       "0  [Send the approval cash request application to...  付款申请书   \n",
       "\n",
       "  Example of term used in context / Definition of term.1  \\\n",
       "0                     我们多次去函请求结清这笔账款而无任何结果，为此我们非常遗憾。       \n",
       "\n",
       "  Other (e.g. Title of source article/page/ section).1  \n",
       "0  [将授权批准人批准的借款申请送出纳付款。, SET协议是为解决信用卡支付业务在Interne...    "
      ]
     },
     "execution_count": 99,
     "metadata": {},
     "output_type": "execute_result"
    }
   ],
   "source": [
    "tmp = pd.DataFrame(lines, columns= col)\n",
    "tmp"
   ]
  },
  {
   "cell_type": "code",
   "execution_count": 70,
   "metadata": {},
   "outputs": [
    {
     "data": {
      "text/plain": [
       "{'Term': 1, 'Ex1': 2, 'Ex2': 3, 'Term2': 4, 'Ex3': 5, 'Ex4': 6}"
      ]
     },
     "execution_count": 70,
     "metadata": {},
     "output_type": "execute_result"
    }
   ],
   "source": [
    "col = [\"Term\", \"Ex1\", \"Ex2\", \"Term2\", \"Ex3\",\"Ex4\"]\n",
    "txt = [1,2,3,4,5,6]\n",
    "\n",
    "dict(zip(col,txt))"
   ]
  },
  {
   "cell_type": "code",
   "execution_count": 66,
   "metadata": {},
   "outputs": [],
   "source": [
    "#创建一个空的Dataframe\n",
    "result =pd.DataFrame(columns=('idx','degree','weight','diameter'))\n",
    "#将计算结果逐行插入result,注意变量要用[]括起来,同时ignore_index=True，否则会报错，ValueError: If using all scalar values, you must pass an index\n",
    "idx =range(2)\n",
    "for i in idx:\n",
    "    degree=1\n",
    "    weight=1\n",
    "    diameter=1\n",
    "    result=result.append(pd.DataFrame({'idx':[i],'degree':[degree],'weight':[weight],'diameter':[diameter]}),ignore_index=True)"
   ]
  },
  {
   "cell_type": "code",
   "execution_count": 102,
   "metadata": {},
   "outputs": [
    {
     "data": {
      "text/plain": [
       "'1'"
      ]
     },
     "execution_count": 102,
     "metadata": {},
     "output_type": "execute_result"
    }
   ],
   "source": [
    "\" \".join(['1'])"
   ]
  },
  {
   "cell_type": "code",
   "execution_count": 103,
   "metadata": {},
   "outputs": [
    {
     "data": {
      "text/plain": [
       "0"
      ]
     },
     "execution_count": 103,
     "metadata": {},
     "output_type": "execute_result"
    }
   ],
   "source": [
    "zh_res =\"\"\n",
    "len(zh_res)"
   ]
  },
  {
   "cell_type": "code",
   "execution_count": 105,
   "metadata": {},
   "outputs": [
    {
     "name": "stderr",
     "output_type": "stream",
     "text": [
      "100%|██████████| 4/4 [00:00<00:00, 3691.36it/s]"
     ]
    },
    {
     "name": "stdout",
     "output_type": "stream",
     "text": [
      "a\n",
      "b\n",
      "c\n",
      "d\n"
     ]
    },
    {
     "name": "stderr",
     "output_type": "stream",
     "text": [
      "\n"
     ]
    }
   ],
   "source": [
    "from tqdm import tqdm\n",
    "\n",
    "text = \"\"\n",
    "for char in tqdm([\"a\", \"b\", \"c\", \"d\"]):\n",
    "    print(char)"
   ]
  },
  {
   "cell_type": "code",
   "execution_count": 106,
   "metadata": {},
   "outputs": [
    {
     "name": "stdout",
     "output_type": "stream",
     "text": [
      "Help on function to_excel in module pandas.core.generic:\n",
      "\n",
      "to_excel(self, excel_writer, sheet_name: 'str' = 'Sheet1', na_rep: 'str' = '', float_format: 'str | None' = None, columns=None, header=True, index=True, index_label=None, startrow=0, startcol=0, engine=None, merge_cells=True, encoding=None, inf_rep='inf', verbose=True, freeze_panes=None, storage_options: 'StorageOptions' = None) -> 'None'\n",
      "    Write object to an Excel sheet.\n",
      "    \n",
      "    To write a single object to an Excel .xlsx file it is only necessary to\n",
      "    specify a target file name. To write to multiple sheets it is necessary to\n",
      "    create an `ExcelWriter` object with a target file name, and specify a sheet\n",
      "    in the file to write to.\n",
      "    \n",
      "    Multiple sheets may be written to by specifying unique `sheet_name`.\n",
      "    With all data written to the file it is necessary to save the changes.\n",
      "    Note that creating an `ExcelWriter` object with a file name that already\n",
      "    exists will result in the contents of the existing file being erased.\n",
      "    \n",
      "    Parameters\n",
      "    ----------\n",
      "    excel_writer : path-like, file-like, or ExcelWriter object\n",
      "        File path or existing ExcelWriter.\n",
      "    sheet_name : str, default 'Sheet1'\n",
      "        Name of sheet which will contain DataFrame.\n",
      "    na_rep : str, default ''\n",
      "        Missing data representation.\n",
      "    float_format : str, optional\n",
      "        Format string for floating point numbers. For example\n",
      "        ``float_format=\"%.2f\"`` will format 0.1234 to 0.12.\n",
      "    columns : sequence or list of str, optional\n",
      "        Columns to write.\n",
      "    header : bool or list of str, default True\n",
      "        Write out the column names. If a list of string is given it is\n",
      "        assumed to be aliases for the column names.\n",
      "    index : bool, default True\n",
      "        Write row names (index).\n",
      "    index_label : str or sequence, optional\n",
      "        Column label for index column(s) if desired. If not specified, and\n",
      "        `header` and `index` are True, then the index names are used. A\n",
      "        sequence should be given if the DataFrame uses MultiIndex.\n",
      "    startrow : int, default 0\n",
      "        Upper left cell row to dump data frame.\n",
      "    startcol : int, default 0\n",
      "        Upper left cell column to dump data frame.\n",
      "    engine : str, optional\n",
      "        Write engine to use, 'openpyxl' or 'xlsxwriter'. You can also set this\n",
      "        via the options ``io.excel.xlsx.writer``, ``io.excel.xls.writer``, and\n",
      "        ``io.excel.xlsm.writer``.\n",
      "    \n",
      "        .. deprecated:: 1.2.0\n",
      "    \n",
      "            As the `xlwt <https://pypi.org/project/xlwt/>`__ package is no longer\n",
      "            maintained, the ``xlwt`` engine will be removed in a future version\n",
      "            of pandas.\n",
      "    \n",
      "    merge_cells : bool, default True\n",
      "        Write MultiIndex and Hierarchical Rows as merged cells.\n",
      "    encoding : str, optional\n",
      "        Encoding of the resulting excel file. Only necessary for xlwt,\n",
      "        other writers support unicode natively.\n",
      "    inf_rep : str, default 'inf'\n",
      "        Representation for infinity (there is no native representation for\n",
      "        infinity in Excel).\n",
      "    verbose : bool, default True\n",
      "        Display more information in the error logs.\n",
      "    freeze_panes : tuple of int (length 2), optional\n",
      "        Specifies the one-based bottommost row and rightmost column that\n",
      "        is to be frozen.\n",
      "    storage_options : dict, optional\n",
      "        Extra options that make sense for a particular storage connection, e.g.\n",
      "        host, port, username, password, etc. For HTTP(S) URLs the key-value pairs\n",
      "        are forwarded to ``urllib`` as header options. For other URLs (e.g.\n",
      "        starting with \"s3://\", and \"gcs://\") the key-value pairs are forwarded to\n",
      "        ``fsspec``. Please see ``fsspec`` and ``urllib`` for more details.\n",
      "    \n",
      "        .. versionadded:: 1.2.0\n",
      "    \n",
      "    See Also\n",
      "    --------\n",
      "    to_csv : Write DataFrame to a comma-separated values (csv) file.\n",
      "    ExcelWriter : Class for writing DataFrame objects into excel sheets.\n",
      "    read_excel : Read an Excel file into a pandas DataFrame.\n",
      "    read_csv : Read a comma-separated values (csv) file into DataFrame.\n",
      "    \n",
      "    Notes\n",
      "    -----\n",
      "    For compatibility with :meth:`~DataFrame.to_csv`,\n",
      "    to_excel serializes lists and dicts to strings before writing.\n",
      "    \n",
      "    Once a workbook has been saved it is not possible to write further\n",
      "    data without rewriting the whole workbook.\n",
      "    \n",
      "    Examples\n",
      "    --------\n",
      "    \n",
      "    Create, write to and save a workbook:\n",
      "    \n",
      "    >>> df1 = pd.DataFrame([['a', 'b'], ['c', 'd']],\n",
      "    ...                    index=['row 1', 'row 2'],\n",
      "    ...                    columns=['col 1', 'col 2'])\n",
      "    >>> df1.to_excel(\"output.xlsx\")  # doctest: +SKIP\n",
      "    \n",
      "    To specify the sheet name:\n",
      "    \n",
      "    >>> df1.to_excel(\"output.xlsx\",\n",
      "    ...              sheet_name='Sheet_name_1')  # doctest: +SKIP\n",
      "    \n",
      "    If you wish to write to more than one sheet in the workbook, it is\n",
      "    necessary to specify an ExcelWriter object:\n",
      "    \n",
      "    >>> df2 = df1.copy()\n",
      "    >>> with pd.ExcelWriter('output.xlsx') as writer:  # doctest: +SKIP\n",
      "    ...     df1.to_excel(writer, sheet_name='Sheet_name_1')\n",
      "    ...     df2.to_excel(writer, sheet_name='Sheet_name_2')\n",
      "    \n",
      "    ExcelWriter can also be used to append to an existing Excel file:\n",
      "    \n",
      "    >>> with pd.ExcelWriter('output.xlsx',\n",
      "    ...                     mode='a') as writer:  # doctest: +SKIP\n",
      "    ...     df.to_excel(writer, sheet_name='Sheet_name_3')\n",
      "    \n",
      "    To set the library that is used to write the Excel file,\n",
      "    you can pass the `engine` keyword (the default engine is\n",
      "    automatically chosen depending on the file extension):\n",
      "    \n",
      "    >>> df1.to_excel('output1.xlsx', engine='xlsxwriter')  # doctest: +SKIP\n",
      "\n"
     ]
    }
   ],
   "source": [
    "help(pd.DataFrame.to_excel)"
   ]
  }
 ],
 "metadata": {
  "interpreter": {
   "hash": "e481c8094450a362835654784466fc3605d9d17b45d80f6ff62525ad7933ac54"
  },
  "kernelspec": {
   "display_name": "Python 3.7.9 64-bit",
   "language": "python",
   "name": "python3"
  },
  "language_info": {
   "codemirror_mode": {
    "name": "ipython",
    "version": 3
   },
   "file_extension": ".py",
   "mimetype": "text/x-python",
   "name": "python",
   "nbconvert_exporter": "python",
   "pygments_lexer": "ipython3",
   "version": "3.7.9"
  },
  "orig_nbformat": 4
 },
 "nbformat": 4,
 "nbformat_minor": 2
}
